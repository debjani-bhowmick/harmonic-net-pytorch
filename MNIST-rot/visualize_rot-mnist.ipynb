{
 "cells": [
  {
   "cell_type": "markdown",
   "metadata": {},
   "source": [
    "# Rot-MNIST data visualization\n",
    "\n",
    "<b>Rot-MNIST</b> is a variant of the popular MNIST dataset where digits are rotated in-plane by arbitrary angles. The dataset can be found at https://www.dropbox.com/s/0fxwai3h84dczh0/mnist_rotation_new.zip.\n",
    "\n",
    "This script is meant to visualize the training and test sets and provide an understanding of this dataset."
   ]
  },
  {
   "cell_type": "code",
   "execution_count": null,
   "metadata": {},
   "outputs": [],
   "source": [
    "# Importing the necessary dependencies below\n",
    "import argparse\n",
    "import os\n",
    "import random\n",
    "import sys\n",
    "import time\n",
    "from urllib.request import urlopen\n",
    "import zipfile\n",
    "sys.path.append('../')\n",
    "import numpy as np\n",
    "import torch\n",
    "import torch.nn.functional as F\n",
    "from torch.utils.data import Dataset, DataLoader\n",
    "import matplotlib.pyplot as plt\n",
    "import random"
   ]
  },
  {
   "cell_type": "markdown",
   "metadata": {},
   "source": [
    "### Loading the dataset"
   ]
  },
  {
   "cell_type": "code",
   "execution_count": null,
   "metadata": {},
   "outputs": [],
   "source": [
    "# specify below the relative path of the directory where the folder mnist_rotation_new is kept.\n",
    "data_dir = '.'"
   ]
  },
  {
   "cell_type": "code",
   "execution_count": null,
   "metadata": {},
   "outputs": [],
   "source": [
    "# loading the train, val and test sets\n",
    "rmnist_dir = data_dir + '/mnist_rotation_new'\n",
    "train = np.load(rmnist_dir + '/rotated_train.npz')\n",
    "valid = np.load(rmnist_dir + '/rotated_valid.npz')\n",
    "test = np.load(rmnist_dir + '/rotated_test.npz')"
   ]
  },
  {
   "cell_type": "markdown",
   "metadata": {},
   "source": [
    "## Statistics of the data"
   ]
  },
  {
   "cell_type": "markdown",
   "metadata": {},
   "source": [
    "#### Samples in training, validation and test sets"
   ]
  },
  {
   "cell_type": "code",
   "execution_count": null,
   "metadata": {},
   "outputs": [],
   "source": [
    "print('No. training samples: ', train['x'].shape[0])\n",
    "print('No. validation samples: ', valid['x'].shape[0])\n",
    "print('No. test samples: ', test['x'].shape[0])"
   ]
  },
  {
   "cell_type": "markdown",
   "metadata": {},
   "source": [
    "#### Analyzing sample counts per class for the data subsets"
   ]
  },
  {
   "cell_type": "code",
   "execution_count": null,
   "metadata": {},
   "outputs": [],
   "source": [
    "def analyze_class_distribution_tabuler(data, flag):\n",
    "    '''\n",
    "    Behaviour:\n",
    "        Displays sample fraction present in each class in \n",
    "        the data.\n",
    "    Args:\n",
    "        data (Numpy array):  Contains the dataset\n",
    "        flag (String): Flag for data-split\n",
    "    '''\n",
    "        \n",
    "    data_count = []\n",
    "    data_frac = []\n",
    "    for i in range(10):\n",
    "        data_count.append((data['y']==i).sum())\n",
    "        data_frac.append(((data['y']==i).sum()/data['y'].shape[0]).round(3))\n",
    "    # Creating a table containing fractions of each class in the train set\n",
    "    from IPython.display import HTML, display\n",
    "    import tabulate\n",
    "    table = [[\"Class\", 0, 1, 2, 3, 4, 5, 6, 7, 8, 9, \"Total\"],\n",
    "             [\"Samples\", data_count[0], data_count[1], data_count[2], data_count[3],\n",
    "              data_count[4], data_count[5], data_count[6], data_count[7], data_count[8],\n",
    "              data_count[9], data['y'].data[0]],\n",
    "             [\"Fraction\", data_frac[0], data_frac[1], data_frac[2], data_frac[3],\n",
    "              data_frac[4], data_frac[5], data_frac[6], data_frac[7], data_frac[8],\n",
    "              data_frac[9], 1.0]]\n",
    "    print(flag, ' set of ', data['y'].shape[0], ' samples')\n",
    "    display(HTML(tabulate.tabulate(table, tablefmt='html')))"
   ]
  },
  {
   "cell_type": "code",
   "execution_count": null,
   "metadata": {},
   "outputs": [],
   "source": [
    "analyze_class_distribution_tabuler(data = train, flag = \"Training\")"
   ]
  },
  {
   "cell_type": "code",
   "execution_count": null,
   "metadata": {},
   "outputs": [],
   "source": [
    "analyze_class_distribution_tabuler(data = valid, flag = \"validation\")"
   ]
  },
  {
   "cell_type": "code",
   "execution_count": null,
   "metadata": {},
   "outputs": [],
   "source": [
    "analyze_class_distribution_tabuler(data = test, flag = \"Test\")"
   ]
  },
  {
   "cell_type": "markdown",
   "metadata": {},
   "source": [
    "From the distribution of samples between the classes, it can be seen that the data is mostly balanced across different classes with sample fraction not going below 9% for any class in dataset. SImilarly, sample fraction is around 11% max across the three subsets.\n",
    "\n",
    "This implies that beyond the traditional cross-entropy loss, no adding class balancing methods are needed to train the model for classification task on this dataset."
   ]
  },
  {
   "cell_type": "markdown",
   "metadata": {},
   "source": [
    "## Data visualization"
   ]
  },
  {
   "cell_type": "markdown",
   "metadata": {},
   "source": [
    "#### Training samples"
   ]
  },
  {
   "cell_type": "code",
   "execution_count": null,
   "metadata": {},
   "outputs": [],
   "source": [
    "def display_image_tile(data, tile_size):\n",
    "    '''\n",
    "    Behaviour:\n",
    "        Displays a large tile with tile_size times tile_size\n",
    "        images randomly chosen from the data.\n",
    "    \n",
    "    Args:\n",
    "        data (Numpy array):  Contains the dataset.\n",
    "        tile_size (int) : dimention of a squre tile  \n",
    "    '''\n",
    "    tile = np.zeros((28*tile_size, 28*tile_size))\n",
    "    for i in range(tile_size):\n",
    "        for j in range(tile_size):\n",
    "            idx = random.randint(0, data['x'].shape[0])\n",
    "            tile[i*28:(i+1)*28, j*28:(j+1)*28] = np.reshape(data['x'][idx,:], (28,28))\n",
    "    # Plotting the tile\n",
    "    plt.figure(figsize = (15,15))\n",
    "    plt.imshow(tile)\n",
    "    ax = plt.gca()\n",
    "    ax.axes.xaxis.set_visible(False)\n",
    "    ax.axes.yaxis.set_visible(False)\n",
    "    plt.show()\n",
    "\n"
   ]
  },
  {
   "cell_type": "code",
   "execution_count": null,
   "metadata": {},
   "outputs": [],
   "source": [
    "display_image_tile(data = train, tile_size = 25)"
   ]
  },
  {
   "cell_type": "markdown",
   "metadata": {},
   "source": [
    "Above we see 625 samples from the training set. The dataset comprises rotated variants of the 10 MNIST digits. "
   ]
  },
  {
   "cell_type": "markdown",
   "metadata": {},
   "source": [
    "#### Test samples"
   ]
  },
  {
   "cell_type": "code",
   "execution_count": null,
   "metadata": {},
   "outputs": [],
   "source": [
    "display_image_tile(data = test, tile_size = 25)"
   ]
  },
  {
   "cell_type": "markdown",
   "metadata": {},
   "source": [
    "Similar to the training set, the 625 test samples shown above also comprise in-plane rotations at arbitrary angles."
   ]
  },
  {
   "cell_type": "markdown",
   "metadata": {},
   "source": [
    "### Context of the dataset"
   ]
  },
  {
   "cell_type": "markdown",
   "metadata": {},
   "source": [
    "In the above dataset, the training set comprises only 10000 samples. Studies using this dataset argue that the limited rotation variations appearing in the training set are not sufficient to let the model learn all rotational variations of the samples. Moreover the overlap of the train and test sets is relatively low in the context of orientations. Thus, it is hoped that when regular CNNs are trained on the orientations present in the training set, they might not be good enough for predictions on the test set, where the rotational orientations differ."
   ]
  }
 ],
 "metadata": {
  "kernelspec": {
   "display_name": "Python 3",
   "language": "python",
   "name": "python3"
  },
  "language_info": {
   "codemirror_mode": {
    "name": "ipython",
    "version": 3
   },
   "file_extension": ".py",
   "mimetype": "text/x-python",
   "name": "python",
   "nbconvert_exporter": "python",
   "pygments_lexer": "ipython3",
   "version": "3.7.3"
  }
 },
 "nbformat": 4,
 "nbformat_minor": 2
}
